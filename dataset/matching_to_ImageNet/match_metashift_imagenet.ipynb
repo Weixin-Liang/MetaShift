{
 "cells": [
  {
   "cell_type": "markdown",
   "metadata": {},
   "source": [
    "# Matching to ImageNet\n",
    "\n",
    "Given that MetaShift is a flexible framework to generate a large number of real-world distribution shifts that are well annotated and controlled, we can use it to construct a new dataset of specific classes and subpopulations. MetaShift can be readily used to evaluate any ImageNet pre-trained vision model, as we have matched MetaShift with ImageNet hierarchy."
   ]
  },
  {
   "cell_type": "markdown",
   "metadata": {},
   "source": [
    "## Generate Wordnet ID for MetaShift and ImageNet\n",
    "\n",
    "We use [wordnet](https://www.nltk.org/howto/wordnet.html) to do the matching."
   ]
  },
  {
   "cell_type": "code",
   "execution_count": 5,
   "metadata": {},
   "outputs": [],
   "source": [
    "! pip install nltk\n",
    "import nltk\n",
    "nltk.download('wordnet')\n",
    "nltk.download('omw-1.4')"
   ]
  },
  {
   "cell_type": "markdown",
   "metadata": {},
   "source": [
    "Examples of using wordnet"
   ]
  },
  {
   "cell_type": "code",
   "execution_count": 54,
   "metadata": {},
   "outputs": [
    {
     "name": "stdout",
     "output_type": "stream",
     "text": [
      "[Synset('dog.n.01'), Synset('frump.n.01'), Synset('dog.n.03'), Synset('cad.n.01'), Synset('frank.n.02'), Synset('pawl.n.01'), Synset('andiron.n.01'), Synset('chase.v.01')]\n",
      "[Synset('chase.v.01')]\n"
     ]
    }
   ],
   "source": [
    "from nltk.corpus import wordnet as wn\n",
    "print(wn.synsets('dog'))\n",
    "print(wn.synsets('dog', pos=wn.VERB))"
   ]
  },
  {
   "cell_type": "markdown",
   "metadata": {},
   "source": [
    "### Generate wordnet id for ImageNet\n",
    "\n",
    "We use [imagenet](https://observablehq.com/@mbostock/imagenet-hierarchy) for ImageNet-1k class hierarchy information. \n",
    "\n",
    "For each meta-data tag of the classes and the subsets of the context as well as the attributes, we search in the ImageNet-1k hierarchy to find if it has the label with the same wordnet id. The meta-data tag in MetaShift may represent a greater domain than the leaf nodes of the ImageNet hierarchy, for example, MetaShift has only one general \"cat\" class, while the ImageNet \"domestic cat\" and \"wildcat\" under the \"cat\" hierarchy, and each kind of cat also has several different breeds. In the matching procedure, all breeds under \"cat\" hierarchy will be matched to \"cat\" class in MetaShift."
   ]
  },
  {
   "cell_type": "code",
   "execution_count": 5,
   "metadata": {},
   "outputs": [],
   "source": [
    "import json\n",
    "imagenet_file = \"imagenet1k_node_names.json\""
   ]
  },
  {
   "cell_type": "code",
   "execution_count": 22,
   "metadata": {},
   "outputs": [],
   "source": [
    "def collect_children(dt, ls=[]):\n",
    "    for k in dt:\n",
    "        if k == 'children':\n",
    "            if isinstance(dt[k], list):\n",
    "                for i in dt[k]:\n",
    "                    collect_children(i, ls)\n",
    "            else:\n",
    "                collect_children(dt[k], ls)\n",
    "        elif k == 'id':\n",
    "            ls.append(dt[k])\n",
    "    return ls\n",
    "\n",
    "def generate_imagenet_wn(filename):\n",
    "    data = json.load(open(filename))\n",
    "    imagenet_id = collect_children(data)\n",
    "    imagenet_id.pop(0) # remove the root node: ImageNet 2011 Fall Release\n",
    "    imagenet_wn = []\n",
    "    for i in imagenet_id:\n",
    "        wn_id = wn.synset_from_pos_and_offset('n', int(i[1:]))\n",
    "        imagenet_wn.append(wn_id)\n",
    "    return imagenet_wn"
   ]
  },
  {
   "cell_type": "code",
   "execution_count": 23,
   "metadata": {},
   "outputs": [
    {
     "name": "stdout",
     "output_type": "stream",
     "text": [
      "imagenet-1k node num: 2153\n"
     ]
    }
   ],
   "source": [
    "imagenet_wn = generate_imagenet_wn(imagenet_file)\n",
    "print('imagenet-1k node num:', len(imagenet_wn))"
   ]
  },
  {
   "cell_type": "markdown",
   "metadata": {},
   "source": [
    "### Generate wordnet id for MetaShift"
   ]
  },
  {
   "cell_type": "code",
   "execution_count": 42,
   "metadata": {},
   "outputs": [],
   "source": [
    "def generate_metashift_wn(filename):\n",
    "    metashift = json.load(open(filename))\n",
    "    metashift_wn = {}\n",
    "    for k, v in metashift.items():\n",
    "        k_ = k.replace(' ', '_') # wordnet does not support space\n",
    "        wn_id = wn.synsets(k_, pos=wn.NOUN)\n",
    "        metashift_wn[k] = wn_id\n",
    "        for i in v:\n",
    "            i_ = i.replace(' ', '_')\n",
    "            wn_id = wn.synsets(i_, pos=wn.NOUN)\n",
    "            metashift_wn[i] = wn_id\n",
    "    return metashift_wn"
   ]
  },
  {
   "cell_type": "code",
   "execution_count": 43,
   "metadata": {},
   "outputs": [
    {
     "name": "stdout",
     "output_type": "stream",
     "text": [
      "metashift len: 1262\n"
     ]
    }
   ],
   "source": [
    "metashift_file = \"../meta_data/class_hierarchy.json\"\n",
    "\n",
    "metashift_wn = generate_metashift_wn(metashift_file)\n",
    "print('metashift len:', len(metashift_wn))"
   ]
  },
  {
   "cell_type": "markdown",
   "metadata": {},
   "source": [
    "### Matching\n",
    "\n",
    "Match wordnet of MetaShift and ImageNet to see how many labels in metashift can be matched to labels in ImageNet-1k"
   ]
  },
  {
   "cell_type": "code",
   "execution_count": 10,
   "metadata": {},
   "outputs": [],
   "source": [
    "def match(imagenet_wn, metashift_wn):\n",
    "    match_list = {}\n",
    "    for k, v in metashift_wn.items():\n",
    "        if type(v) == list:\n",
    "            for j in v:\n",
    "                if j in imagenet_wn:\n",
    "                    match_list[k] = j\n",
    "                    break\n",
    "        else:\n",
    "            if v in imagenet_wn:\n",
    "                match_list[k] = v\n",
    "    return match_list"
   ]
  },
  {
   "cell_type": "code",
   "execution_count": 11,
   "metadata": {},
   "outputs": [
    {
     "name": "stdout",
     "output_type": "stream",
     "text": [
      "match len: 427\n"
     ]
    }
   ],
   "source": [
    "match_list = match(imagenet_wn, metashift_wn)\n",
    "print('match len:', len(match_list))"
   ]
  },
  {
   "cell_type": "markdown",
   "metadata": {},
   "source": [
    "## Generate Selected Class from matching labels\n",
    "\n",
    "After matching the labels, we can select the classes that we want to use in our dataset, which are the labels in ImageNet-1k."
   ]
  },
  {
   "cell_type": "code",
   "execution_count": 55,
   "metadata": {},
   "outputs": [
    {
     "name": "stdout",
     "output_type": "stream",
     "text": [
      "selected subsets len: 5040\n",
      "selected classes len: 261\n"
     ]
    }
   ],
   "source": [
    "import pickle\n",
    "full_subsets = '../meta_data/full-candidate-subsets.pkl'\n",
    "\n",
    "f = open(full_subsets, 'rb')\n",
    "info = pickle.load(f)\n",
    "keysinfo = []\n",
    "selected = {}\n",
    "\n",
    "classes_full = pickle.load(open(full_subsets, 'rb'))\n",
    "\n",
    "for i in classes_full.keys():\n",
    "    idx1 = i.find('(')\n",
    "    idx2 = i.find(')')\n",
    "    cls1 = i[:idx1]\n",
    "    cls2 = i[idx1+1:idx2]\n",
    "    if not (cls1 in match_list and cls2 in match_list):\n",
    "        continue\n",
    "    selected[i] = classes_full[i]\n",
    "print('selected subsets len:', len(selected))\n",
    "\n",
    "selected_class = []\n",
    "for i in selected.keys():\n",
    "    idx1 = i.find('(')\n",
    "    cls = i[:idx1]\n",
    "    selected_class.append(cls)\n",
    "selected_class = list(set(selected_class))\n",
    "print('selected classes len:', len(selected_class))\n",
    "\n",
    "pkl = open('selected-candidate-subsets.pkl', 'wb')\n",
    "pickle.dump(selected, pkl)\n",
    "pkl.close()"
   ]
  },
  {
   "cell_type": "markdown",
   "metadata": {},
   "source": [
    "## Check Coverage\n",
    "\n",
    "We check the coverage of the selected classes in ImageNet-1k: for each meta-data of the matched version of MetaShift, we locate the tags in the ImageNet hierarchy. If it is a non-leaf node, then mark all of its leaf nodes, otherwise mark the leaf node itself."
   ]
  },
  {
   "cell_type": "code",
   "execution_count": 59,
   "metadata": {},
   "outputs": [],
   "source": [
    "leaf_nodes = []\n",
    "\n",
    "# count the number of children under a node\n",
    "def count_children(dt, cnt=0):\n",
    "    if isinstance(dt, list):\n",
    "        for i in dt:\n",
    "            cnt = count_children(i, cnt)\n",
    "    elif isinstance(dt, dict):\n",
    "        if 'children' not in dt:\n",
    "            if dt['id'] in leaf_nodes:\n",
    "                pass\n",
    "            if dt['id'] not in leaf_nodes:\n",
    "                leaf_nodes.append(dt['id'])\n",
    "                cnt += 1\n",
    "        else:\n",
    "            cnt = count_children(dt['children'], cnt)\n",
    "    return cnt\n",
    "\n",
    "def match_wn_id(synset, id):\n",
    "    wn_id = wn.synset_from_pos_and_offset('n', int(id[1:]))\n",
    "    if type(synset) == list:\n",
    "        for i in synset:\n",
    "            if i == wn_id:\n",
    "                return True\n",
    "    else:\n",
    "        if synset == wn_id:\n",
    "            return True\n",
    "    return False\n",
    "\n",
    "# find the matched node\n",
    "def find_node(name, dt, cnt = 0):\n",
    "    if isinstance(dt, list):\n",
    "        for i in dt:\n",
    "            cnt = find_node(name, i, cnt)\n",
    "    elif isinstance(dt, dict):\n",
    "        if match_wn_id(name, dt['id']):\n",
    "            cnt =  count_children(dt, cnt)\n",
    "        elif 'children' in dt:\n",
    "            cnt = find_node(name, dt['children'], cnt)\n",
    "    return cnt\n"
   ]
  },
  {
   "cell_type": "code",
   "execution_count": 60,
   "metadata": {},
   "outputs": [
    {
     "name": "stdout",
     "output_type": "stream",
     "text": [
      "matched nodes num: 867\n"
     ]
    }
   ],
   "source": [
    "imagenet_dict = json.load(open(imagenet_file))\n",
    "imagenet_dict = imagenet_dict['children']\n",
    "metashift_selected_wn = {}\n",
    "\n",
    "# generate the wordnet id of selected classes\n",
    "for k in selected_class:\n",
    "    k_ = k.replace(' ', '_')\n",
    "    wn_id = wn.synsets(k_, pos=wn.NOUN)\n",
    "    metashift_selected_wn[k] = wn_id\n",
    "\n",
    "# count the number of matched nodes\n",
    "cnt = 0\n",
    "for k, v in metashift_selected_wn.items():\n",
    "    nodes = find_node(v, imagenet_dict)\n",
    "    cnt += nodes\n",
    "print('matched nodes num:', cnt)"
   ]
  },
  {
   "cell_type": "code",
   "execution_count": null,
   "metadata": {},
   "outputs": [],
   "source": []
  }
 ],
 "metadata": {
  "kernelspec": {
   "display_name": "Python 3.7.13 ('ICMLworkshop')",
   "language": "python",
   "name": "python3"
  },
  "language_info": {
   "codemirror_mode": {
    "name": "ipython",
    "version": 3
   },
   "file_extension": ".py",
   "mimetype": "text/x-python",
   "name": "python",
   "nbconvert_exporter": "python",
   "pygments_lexer": "ipython3",
   "version": "3.7.12"
  },
  "orig_nbformat": 4,
  "vscode": {
   "interpreter": {
    "hash": "008c5fc62dbaba13e27d902777b02d658ae78a7bda39d9ce4a66434bd193f653"
   }
  }
 },
 "nbformat": 4,
 "nbformat_minor": 2
}
